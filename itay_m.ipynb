{
 "cells": [
  {
   "cell_type": "code",
   "execution_count": 3,
   "metadata": {},
   "outputs": [],
   "source": [
    "import os\n",
    "import sys\n",
    "import json\n",
    "from pathlib import Path\n",
    "from datetime import datetime "
   ]
  },
  {
   "cell_type": "code",
   "execution_count": 245,
   "metadata": {},
   "outputs": [],
   "source": [
    "class User:\n",
    "    def __init__(self,name):\n",
    "        self.name = name\n",
    "        self.path = Path(f\"./Users/{self.name}.json\")\n",
    "        \n",
    "        if self.user_exists():\n",
    "            print(f'Welcome Back, {self.name}!')\n",
    "            self.load_state_dict()\n",
    "            self.save_state_dict()\n",
    "\n",
    "        else:\n",
    "            print(f'Hello {self.name}, Enjoy your game, we created a user for you.')\n",
    "            self.init_new_player()\n",
    "            self.save_state_dict()\n",
    "            self.load_dict()\n",
    "\n",
    "    def user_exists(self):\n",
    "         return self.path.exists() \n",
    "        \n",
    "\n",
    "    def init_new_player(self):\n",
    "        self.languageCode = 'he'\n",
    "        self.login_time = check_time() \n",
    "        self.logout_time = \"\" #check_out()\n",
    "        self.counter = 0\n",
    "        self.rank = {} \n",
    "        \n",
    "                        \n",
    "\n",
    "    def state_dict(self):\n",
    "        out = self.__dict__.copy()\n",
    "        out.pop('path')\n",
    "        #print(out)\n",
    "        \n",
    "        return out\n",
    "    \n",
    "    def load_state_dict(self):\n",
    "        with open(f'users/{self.name}.json','r') as f:\n",
    "            state_dict = json.load(f)\n",
    "            print(f'***load_state_dict***\\n{state_dict}')\n",
    "            state_dict['counter'] = state_dict['counter'] + 1\n",
    "\n",
    "            self.__dict__.update(state_dict)\n",
    "\n",
    "    def save_state_dict(self):\n",
    "        \n",
    "        rank = {0:[[\"Y\",\"0\"],[\"N\",\"0\"],[\"response_time\",0]]}\n",
    "        state_dict = self.state_dict()\n",
    "        state_dict['rank']= rank\n",
    "        print(f'***save_state_dict***\\n DONE')\n",
    "        with open(f'users/{self.name}.json', 'w') as f:\n",
    "            json.dump(state_dict, f, indent = 2)   \n",
    "        \n",
    "\n",
    "     #load dict \n",
    "    def load_dict(self): \n",
    "        with open(\"words/he.json\", 'r') as f:\n",
    "            self.word_dict = json.load(f)\n",
    "            print(f'***load_dict***\\n DONE')\n",
    "        self.play_game(self.word_dict) \n",
    "        #return(word_dict)           \n",
    "\n",
    "    def play_game(self,word_dict):  \n",
    "        print(f'***paly_game***')\n",
    "        xxx = []\n",
    "        i = 0\n",
    "        answer = input(\"Do you want to play? (Y \\ N)\\n\")\n",
    "        if answer in 'Nn':\n",
    "            print('BYE BYE')\n",
    "            self.save_state_dict()\n",
    "            return(xxx)\n",
    "        else:    \n",
    "            print(f\"Good luck\")\n",
    "        while answer in 'Yyט':\n",
    "            self.rank = word_dict['words'][i]['rank']  \n",
    "            word = word_dict['words'][i]\n",
    "            eng_word = word[\"englishWord\"]\n",
    "            he_word = word[\"targetWord\"]\n",
    "             \n",
    "            print(f\"The answer for: {eng_word}****{self.rank}****{he_word}\")\n",
    "            print(eng_word)\n",
    "            he_answer = input(\"Your answer is:\")\n",
    "            print(he_answer)\n",
    "           \n",
    "            i=i+1 \n",
    "            if he_answer == he_word:\n",
    "                print(\"Good... keep up\")\n",
    "                rank = {self.rank:[[\"Y\",\"0\"],[\"N\",\"0\"],[\"response_time\",check_time()]]} \n",
    "                xxx.append(rank)\n",
    "                print(xxx)\n",
    "            else:\n",
    "                print('Try again')    \n",
    "                print(f\"The answer for: {eng_word}****{self.rank}****{he_word}\")\n",
    "                he_answer = input(\"Try again\")\n",
    "                print(he_answer)       \n",
    "                answer = input(\"To conitinue press Y\") \n",
    "    \n",
    "\n",
    "            #self.save_state_dict()\n",
    "        print(f\"Your score is...\")     \n",
    "\n",
    "#trying using a lambada function           \n",
    "check_time = lambda : datetime.now().strftime('%Y-%m-%d %H:%M:%S') \n",
    "check_out = lambda : datetime.now().strftime('%Y-%m-%d %H:%M:%S')        \n"
   ]
  },
  {
   "cell_type": "code",
   "execution_count": 246,
   "metadata": {},
   "outputs": [
    {
     "name": "stdout",
     "output_type": "stream",
     "text": [
      "Hello a, Enjoy your game, we created a user for you.\n"
     ]
    },
    {
     "ename": "NameError",
     "evalue": "name 'xxx' is not defined",
     "output_type": "error",
     "traceback": [
      "\u001b[0;31m---------------------------------------------------------------------------\u001b[0m",
      "\u001b[0;31mNameError\u001b[0m                                 Traceback (most recent call last)",
      "\u001b[0;32m/var/folders/3s/v2dfjv6x43j1bykkpl2rq60c0000gn/T/ipykernel_3871/1574384745.py\u001b[0m in \u001b[0;36m<module>\u001b[0;34m\u001b[0m\n\u001b[0;32m----> 1\u001b[0;31m \u001b[0muser1\u001b[0m \u001b[0;34m=\u001b[0m \u001b[0mUser\u001b[0m\u001b[0;34m(\u001b[0m\u001b[0;34m'a'\u001b[0m\u001b[0;34m)\u001b[0m\u001b[0;34m\u001b[0m\u001b[0;34m\u001b[0m\u001b[0m\n\u001b[0m\u001b[1;32m      2\u001b[0m \u001b[0;31m#print(user1.state_dict)\u001b[0m\u001b[0;34m\u001b[0m\u001b[0;34m\u001b[0m\u001b[0m\n\u001b[1;32m      3\u001b[0m \u001b[0;34m\u001b[0m\u001b[0m\n\u001b[1;32m      4\u001b[0m \u001b[0;34m\u001b[0m\u001b[0m\n",
      "\u001b[0;32m/var/folders/3s/v2dfjv6x43j1bykkpl2rq60c0000gn/T/ipykernel_3871/3141685552.py\u001b[0m in \u001b[0;36m__init__\u001b[0;34m(self, name)\u001b[0m\n\u001b[1;32m     12\u001b[0m             \u001b[0mprint\u001b[0m\u001b[0;34m(\u001b[0m\u001b[0;34mf'Hello {self.name}, Enjoy your game, we created a user for you.'\u001b[0m\u001b[0;34m)\u001b[0m\u001b[0;34m\u001b[0m\u001b[0;34m\u001b[0m\u001b[0m\n\u001b[1;32m     13\u001b[0m             \u001b[0mself\u001b[0m\u001b[0;34m.\u001b[0m\u001b[0minit_new_player\u001b[0m\u001b[0;34m(\u001b[0m\u001b[0;34m)\u001b[0m\u001b[0;34m\u001b[0m\u001b[0;34m\u001b[0m\u001b[0m\n\u001b[0;32m---> 14\u001b[0;31m             \u001b[0mself\u001b[0m\u001b[0;34m.\u001b[0m\u001b[0msave_state_dict\u001b[0m\u001b[0;34m(\u001b[0m\u001b[0;34m)\u001b[0m\u001b[0;34m\u001b[0m\u001b[0;34m\u001b[0m\u001b[0m\n\u001b[0m\u001b[1;32m     15\u001b[0m             \u001b[0mself\u001b[0m\u001b[0;34m.\u001b[0m\u001b[0mload_dict\u001b[0m\u001b[0;34m(\u001b[0m\u001b[0;34m)\u001b[0m\u001b[0;34m\u001b[0m\u001b[0;34m\u001b[0m\u001b[0m\n\u001b[1;32m     16\u001b[0m \u001b[0;34m\u001b[0m\u001b[0m\n",
      "\u001b[0;32m/var/folders/3s/v2dfjv6x43j1bykkpl2rq60c0000gn/T/ipykernel_3871/3141685552.py\u001b[0m in \u001b[0;36msave_state_dict\u001b[0;34m(self)\u001b[0m\n\u001b[1;32m     45\u001b[0m     \u001b[0;32mdef\u001b[0m \u001b[0msave_state_dict\u001b[0m\u001b[0;34m(\u001b[0m\u001b[0mself\u001b[0m\u001b[0;34m)\u001b[0m\u001b[0;34m:\u001b[0m\u001b[0;34m\u001b[0m\u001b[0;34m\u001b[0m\u001b[0m\n\u001b[1;32m     46\u001b[0m \u001b[0;34m\u001b[0m\u001b[0m\n\u001b[0;32m---> 47\u001b[0;31m         \u001b[0mrank\u001b[0m \u001b[0;34m=\u001b[0m \u001b[0mxxx\u001b[0m\u001b[0;31m#{0:[[\"Y\",\"0\"],[\"N\",\"0\"],[\"response_time\",0]]}\u001b[0m\u001b[0;34m\u001b[0m\u001b[0;34m\u001b[0m\u001b[0m\n\u001b[0m\u001b[1;32m     48\u001b[0m         \u001b[0mstate_dict\u001b[0m \u001b[0;34m=\u001b[0m \u001b[0mself\u001b[0m\u001b[0;34m.\u001b[0m\u001b[0mstate_dict\u001b[0m\u001b[0;34m(\u001b[0m\u001b[0;34m)\u001b[0m\u001b[0;34m\u001b[0m\u001b[0;34m\u001b[0m\u001b[0m\n\u001b[1;32m     49\u001b[0m         \u001b[0mstate_dict\u001b[0m\u001b[0;34m[\u001b[0m\u001b[0;34m'rank'\u001b[0m\u001b[0;34m]\u001b[0m\u001b[0;34m=\u001b[0m \u001b[0mrank\u001b[0m\u001b[0;34m\u001b[0m\u001b[0;34m\u001b[0m\u001b[0m\n",
      "\u001b[0;31mNameError\u001b[0m: name 'xxx' is not defined"
     ]
    }
   ],
   "source": [
    "user1 = User('a')\n",
    "#print(user1.state_dict)\n",
    "\n",
    "\n"
   ]
  }
 ],
 "metadata": {
  "kernelspec": {
   "display_name": "base",
   "language": "python",
   "name": "python3"
  },
  "language_info": {
   "codemirror_mode": {
    "name": "ipython",
    "version": 3
   },
   "file_extension": ".py",
   "mimetype": "text/x-python",
   "name": "python",
   "nbconvert_exporter": "python",
   "pygments_lexer": "ipython3",
   "version": "3.9.13"
  },
  "orig_nbformat": 4,
  "vscode": {
   "interpreter": {
    "hash": "8089d9cc9112715ca7645e61e97247223ef54e8ed427f06f0b74d051ba00498a"
   }
  }
 },
 "nbformat": 4,
 "nbformat_minor": 2
}
